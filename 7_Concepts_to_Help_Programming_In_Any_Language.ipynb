{
  "nbformat": 4,
  "nbformat_minor": 0,
  "metadata": {
    "colab": {
      "provenance": [],
      "include_colab_link": true
    },
    "kernelspec": {
      "name": "python3",
      "display_name": "Python 3"
    },
    "language_info": {
      "name": "python"
    }
  },
  "cells": [
    {
      "cell_type": "markdown",
      "metadata": {
        "id": "view-in-github",
        "colab_type": "text"
      },
      "source": [
        "<a href=\"https://colab.research.google.com/github/vizmotion/article-resources/blob/main/7_Concepts_to_Help_Programming_In_Any_Language.ipynb\" target=\"_parent\"><img src=\"https://colab.research.google.com/assets/colab-badge.svg\" alt=\"Open In Colab\"/></a>"
      ]
    },
    {
      "cell_type": "markdown",
      "source": [
        "# Building Blocks\n"
      ],
      "metadata": {
        "id": "0Ek2F440VtPj"
      }
    },
    {
      "cell_type": "markdown",
      "source": [
        "##1. Comments"
      ],
      "metadata": {
        "id": "Sd8y_EdcQy4Q"
      }
    },
    {
      "cell_type": "code",
      "execution_count": null,
      "metadata": {
        "id": "vcj3Y72QQDYx"
      },
      "outputs": [],
      "source": [
        "# Comments"
      ]
    },
    {
      "cell_type": "markdown",
      "source": [
        "##2. Variables"
      ],
      "metadata": {
        "id": "tgj2J3bpRCY8"
      }
    },
    {
      "cell_type": "code",
      "source": [
        "a = 5\n",
        "b = 6\n",
        "c = a + b\n",
        "print(c)"
      ],
      "metadata": {
        "colab": {
          "base_uri": "https://localhost:8080/"
        },
        "id": "OpkxbBoyQ_fj",
        "outputId": "4692b8e6-7802-4121-9311-3ad509dd134d"
      },
      "execution_count": null,
      "outputs": [
        {
          "output_type": "stream",
          "name": "stdout",
          "text": [
            "11\n"
          ]
        }
      ]
    },
    {
      "cell_type": "markdown",
      "source": [
        "##3. Data Types"
      ],
      "metadata": {
        "id": "q3L6D2_0RRZB"
      }
    },
    {
      "cell_type": "code",
      "source": [
        "a = 1           # integer\n",
        "a = \"Hello\"     # String\n",
        "a = ['1st', '2nd', '3r']   # List\n",
        "print(a[2])d"
      ],
      "metadata": {
        "id": "7pl8KxTVRP4J",
        "colab": {
          "base_uri": "https://localhost:8080/"
        },
        "outputId": "4525e706-1357-48bd-dc26-6e31c8932e83"
      },
      "execution_count": null,
      "outputs": [
        {
          "output_type": "stream",
          "name": "stdout",
          "text": [
            "3r\n"
          ]
        }
      ]
    },
    {
      "cell_type": "markdown",
      "source": [
        "##4. Input"
      ],
      "metadata": {
        "id": "uku54KpVRsan"
      }
    },
    {
      "cell_type": "code",
      "source": [
        "# User Input\n",
        "val = input(\"Enter your value: \")\n",
        "print(val)"
      ],
      "metadata": {
        "colab": {
          "base_uri": "https://localhost:8080/"
        },
        "id": "eD0DETHSSBwM",
        "outputId": "b29d92dd-70a8-48b9-d456-ede961d2e844"
      },
      "execution_count": null,
      "outputs": [
        {
          "output_type": "stream",
          "name": "stdout",
          "text": [
            "Enter your value: Hello World This is Awesome\n",
            "Hello World This is Awesome\n"
          ]
        }
      ]
    },
    {
      "cell_type": "markdown",
      "source": [
        "##5. Output"
      ],
      "metadata": {
        "id": "s63D5WEsRzFo"
      }
    },
    {
      "cell_type": "code",
      "source": [
        "name = \"Jim\"\n",
        "print(\"Your name is \"+name)"
      ],
      "metadata": {
        "colab": {
          "base_uri": "https://localhost:8080/"
        },
        "id": "m7Rxyal6SMls",
        "outputId": "c87da205-019e-4403-c39e-bbffa0df4f8b"
      },
      "execution_count": null,
      "outputs": [
        {
          "output_type": "stream",
          "name": "stdout",
          "text": [
            "Your name is Jim\n"
          ]
        }
      ]
    },
    {
      "cell_type": "markdown",
      "source": [
        "##6. Internal and External Function"
      ],
      "metadata": {
        "id": "QyFvaycISUzF"
      }
    },
    {
      "cell_type": "code",
      "source": [
        "# External Function round\n",
        "from random import randint # Brining in a library function\n",
        "print(\"Print One Random Number\")\n",
        "print(randint(0, 10))\n",
        "\n",
        "# User Defined\n",
        "def print3randint(start, end):\n",
        "  print(\"Print Three Random Numbers\")\n",
        "  print(randint(start, end))\n",
        "  print(randint(start, end))\n",
        "  print(randint(start, end))\n",
        "\n",
        "print3randint(0, 10)\n",
        "\n"
      ],
      "metadata": {
        "colab": {
          "base_uri": "https://localhost:8080/"
        },
        "id": "nmj1x2O-SR_n",
        "outputId": "b8bd78e9-bf16-473e-98c2-b7f2a65ac1ce"
      },
      "execution_count": null,
      "outputs": [
        {
          "output_type": "stream",
          "name": "stdout",
          "text": [
            "Print One Random Number\n",
            "5\n",
            "Print Three Random Numbers\n",
            "10\n",
            "2\n",
            "9\n"
          ]
        }
      ]
    },
    {
      "cell_type": "markdown",
      "source": [
        "##7. Control"
      ],
      "metadata": {
        "id": "a3y0YWKzTSDi"
      }
    },
    {
      "cell_type": "code",
      "source": [
        "# Example If Statements\n",
        "x = 6;\n",
        "if x == 5:\n",
        "  print('Number equals 5')\n",
        "else:\n",
        "  print('Number not equal to 5')"
      ],
      "metadata": {
        "colab": {
          "base_uri": "https://localhost:8080/"
        },
        "id": "NDSy4OFJTRZC",
        "outputId": "e4dd2728-1fbb-46f6-beed-fc12e4b5d750"
      },
      "execution_count": null,
      "outputs": [
        {
          "output_type": "stream",
          "name": "stdout",
          "text": [
            "Number not equal to 5\n"
          ]
        }
      ]
    },
    {
      "cell_type": "code",
      "source": [
        "# Example of Loop\n",
        "# for loop\n",
        "for i in range(5): # range will create numbers 0 - 4 as you can see is printed out. In python this is how you tell the system to do the loop x number of times.\n",
        "  print(i) #will start printing from zero(default) to range.\n"
      ],
      "metadata": {
        "colab": {
          "base_uri": "https://localhost:8080/"
        },
        "id": "iSnwMzEJSPmB",
        "outputId": "10079a19-35b6-42f7-df4e-77f3dbcb6ec2"
      },
      "execution_count": null,
      "outputs": [
        {
          "output_type": "stream",
          "name": "stdout",
          "text": [
            "0\n",
            "1\n",
            "2\n",
            "3\n",
            "4\n"
          ]
        }
      ]
    },
    {
      "cell_type": "code",
      "source": [
        "#This is a program\n",
        "print(\"hello world\")\n",
        "i = 45\n",
        "print(i)"
      ],
      "metadata": {
        "colab": {
          "base_uri": "https://localhost:8080/"
        },
        "id": "cspGUlVqPllN",
        "outputId": "bc364185-ddf5-4ee4-cb95-c0054d2e52d6"
      },
      "execution_count": null,
      "outputs": [
        {
          "output_type": "stream",
          "name": "stdout",
          "text": [
            "hello world\n",
            "45\n"
          ]
        }
      ]
    }
  ]
}